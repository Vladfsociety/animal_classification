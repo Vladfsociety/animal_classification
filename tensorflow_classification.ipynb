{
 "cells": [
  {
   "cell_type": "markdown",
   "id": "6585ded1-e51e-4ff9-a2fa-463b5aff988c",
   "metadata": {},
   "source": [
    "# Imports"
   ]
  },
  {
   "cell_type": "code",
   "execution_count": null,
   "id": "6a077258-f5ae-48d3-ac9e-744c11365220",
   "metadata": {},
   "outputs": [],
   "source": [
    "import time\n",
    "import numpy as np\n",
    "import matplotlib.pyplot as plt\n",
    "import tensorflow as tf\n",
    "from tensorflow import keras\n",
    "from tensorflow.keras import layers\n",
    "from tensorflow.keras.models import Sequential\n",
    "from tensorflow.keras import mixed_precision\n",
    "from tensorflow.keras.preprocessing import image"
   ]
  },
  {
   "cell_type": "markdown",
   "id": "cd336544-b895-49e3-a58b-c2bf028beb3b",
   "metadata": {},
   "source": [
    "# Load Dataset"
   ]
  },
  {
   "cell_type": "code",
   "execution_count": null,
   "id": "5ef32f66-0039-4013-8da0-eb003b501d11",
   "metadata": {},
   "outputs": [],
   "source": [
    "print(\"Num GPUs Available: \", tf.config.list_physical_devices('GPU'))"
   ]
  },
  {
   "cell_type": "code",
   "execution_count": null,
   "id": "ed0a132f-a15f-4045-b1a2-a3654b16fff4",
   "metadata": {},
   "outputs": [],
   "source": [
    "policy = mixed_precision.Policy('mixed_float16')\n",
    "mixed_precision.set_global_policy(policy)"
   ]
  },
  {
   "cell_type": "code",
   "execution_count": null,
   "id": "84d822d2-b7c6-4e21-8292-13bda2647c2b",
   "metadata": {},
   "outputs": [],
   "source": [
    "batch_size = 64\n",
    "img_height = 224\n",
    "img_width = 224"
   ]
  },
  {
   "cell_type": "code",
   "execution_count": null,
   "id": "187232a4-9201-48b8-814b-5938f8d4433a",
   "metadata": {},
   "outputs": [],
   "source": [
    "train_dataset, validation_dataset = tf.keras.preprocessing.image_dataset_from_directory(\n",
    "    'data',\n",
    "    validation_split=0.2,\n",
    "    subset=\"both\",\n",
    "    seed=123,\n",
    "    image_size=(img_height, img_width),\n",
    "    batch_size=batch_size,\n",
    "    label_mode='categorical'\n",
    ")\n",
    "\n",
    "class_names = train_dataset.class_names\n",
    "print(class_names)\n",
    "\n",
    "AUTOTUNE = tf.data.AUTOTUNE\n",
    "train_dataset = train_dataset.prefetch(buffer_size=AUTOTUNE)\n",
    "validation_dataset = validation_dataset.prefetch(buffer_size=AUTOTUNE)"
   ]
  },
  {
   "cell_type": "markdown",
   "id": "cc4d3183-5666-4e9d-9ac4-ee089599e3ed",
   "metadata": {},
   "source": [
    "# Create model and fit "
   ]
  },
  {
   "cell_type": "code",
   "execution_count": null,
   "id": "9b0232e5-9d10-4611-8231-41bef96152d5",
   "metadata": {},
   "outputs": [],
   "source": [
    "data_augmentation = keras.Sequential(\n",
    "  [\n",
    "    layers.RandomFlip(\"horizontal\"),\n",
    "    layers.RandomRotation(0.1),\n",
    "    layers.RandomZoom(0.1),\n",
    "  ]\n",
    ")"
   ]
  },
  {
   "cell_type": "raw",
   "id": "6bffb695-5fae-44ff-b5d4-59155c12ebd0",
   "metadata": {},
   "source": [
    "start_time = time.time()\n",
    "\n",
    "model = Sequential([\n",
    "    layers.Input((img_height, img_width, 3)),\n",
    "    layers.Rescaling(1./255),\n",
    "    data_augmentation,\n",
    "    layers.Conv2D(16, 3, padding='same', activation='relu'),\n",
    "    layers.MaxPooling2D(),\n",
    "    layers.Conv2D(32, 3, padding='same', activation='relu'),\n",
    "    layers.MaxPooling2D(),\n",
    "    layers.Conv2D(64, 3, padding='same', activation='relu'),\n",
    "    layers.MaxPooling2D(),\n",
    "    layers.Conv2D(128, 3, padding='same', activation='relu'),\n",
    "    layers.MaxPooling2D(),\n",
    "    layers.Conv2D(256, 3, padding='same', activation='relu'),\n",
    "    layers.MaxPooling2D(),\n",
    "    layers.Flatten(),\n",
    "    layers.Dense(512, activation='relu'),\n",
    "    layers.Dense(len(class_names), activation='softmax')\n",
    "])\n",
    "model.compile(optimizer='adam',\n",
    "              loss=tf.keras.losses.CategoricalCrossentropy(from_logits=False),\n",
    "              metrics=['accuracy']);\n",
    "model.summary()\n",
    "epochs = 30\n",
    "history = model.fit(\n",
    "  train_dataset,\n",
    "  validation_data=validation_dataset,\n",
    "  epochs=epochs\n",
    ")\n",
    "\n",
    "print(\"--- Execution time: %s seconds ---\" % (time.time() - start_time))\n",
    "\n",
    "model.save('tensorflow_simple_model.keras')"
   ]
  },
  {
   "cell_type": "markdown",
   "id": "27e0c7c9-deaf-411c-b2df-2f09221ee4db",
   "metadata": {},
   "source": [
    "# Results for custom model"
   ]
  },
  {
   "cell_type": "raw",
   "id": "dfb091eb-61b9-4047-91db-032ec26dd9ed",
   "metadata": {},
   "source": [
    "acc = history.history['accuracy']\n",
    "val_acc = history.history['val_accuracy']\n",
    "\n",
    "loss = history.history['loss']\n",
    "val_loss = history.history['val_loss']\n",
    "\n",
    "epochs_range = range(epochs)\n",
    "\n",
    "plt.figure(figsize=(16, 8))\n",
    "plt.subplot(1, 2, 1)\n",
    "plt.plot(epochs_range, acc, label='Training Accuracy')\n",
    "plt.plot(epochs_range, val_acc, label='Validation Accuracy')\n",
    "plt.legend(loc='lower right')\n",
    "plt.title('Training and Validation Accuracy')\n",
    "\n",
    "plt.subplot(1, 2, 2)\n",
    "plt.plot(epochs_range, loss, label='Training Loss')\n",
    "plt.plot(epochs_range, val_loss, label='Validation Loss')\n",
    "plt.legend(loc='upper right')\n",
    "plt.title('Training and Validation Loss')\n",
    "plt.show()"
   ]
  },
  {
   "cell_type": "code",
   "execution_count": null,
   "id": "8bcd6d2c-427d-4832-b553-d2000213340e",
   "metadata": {},
   "outputs": [],
   "source": [
    "def image_classification(model, img_path):\n",
    "    \n",
    "    # Load the image and resize it to the target size of the model (e.g., 224x224 for MobileNet)\n",
    "    img = image.load_img(img_path, target_size=(224, 224))\n",
    "    \n",
    "    # Convert the image to a numpy array\n",
    "    img_array = image.img_to_array(img)\n",
    "    \n",
    "    # Expand dimensions to match the shape the model expects (1, 224, 224, 3)\n",
    "    img_array = np.expand_dims(img_array, axis=0)\n",
    "    \n",
    "    predictions = model.predict(img_array)\n",
    "\n",
    "    # If you have a classification model, you might want to get the class with the highest probability\n",
    "    predicted_class = np.argmax(predictions, axis=1)\n",
    "    \n",
    "    # Print the predicted class\n",
    "    print(f'Predicted class: {predicted_class}')                        "
   ]
  },
  {
   "cell_type": "raw",
   "id": "0b5a4ca0-4d41-483e-9988-cc0b3d6f103c",
   "metadata": {},
   "source": [
    "model = tf.keras.models.load_model('tensorflow_simple_model.keras')\n",
    "image_classification(model, \"data/butterfly_test.jpeg\")\n",
    "image_classification(model, \"data/cat_test.jpeg\")\n",
    "image_classification(model, \"data/chicken_test.jpeg\")\n",
    "image_classification(model, \"data/cow_test.jpg\")\n",
    "image_classification(model, \"data/dog_test.jpeg\")\n",
    "image_classification(model, \"data/elephant_test.jpeg\")\n",
    "image_classification(model, \"data/horse_test.jpg\")\n",
    "image_classification(model, \"data/sheep_test.jpg\")\n",
    "image_classification(model, \"data/spider_test.jpg\")\n",
    "image_classification(model, \"data/squirrel_test.jpeg\")"
   ]
  },
  {
   "cell_type": "markdown",
   "id": "6ef83e82-6ebb-4c0b-b52b-1b7a76eb8780",
   "metadata": {},
   "source": [
    "# Create MobileNetV2 model"
   ]
  },
  {
   "cell_type": "code",
   "execution_count": null,
   "id": "73583b86-1500-4991-b0ea-199447af4e77",
   "metadata": {},
   "outputs": [],
   "source": [
    "from tensorflow.keras.models import Model\n",
    "\n",
    "start_time = time.time()\n",
    "\n",
    "preprocessing_input = layers.Input(shape=(img_height, img_width, 3))\n",
    "x = layers.Rescaling(1./255)(preprocessing_input)\n",
    "x = data_augmentation(x)  # Apply data augmentation\n",
    "preprocessing = Model(inputs=preprocessing_input, outputs=x)\n",
    "\n",
    "base_model = tf.keras.applications.MobileNetV2(weights='imagenet', include_top=False, input_shape=(224, 224, 3))\n",
    "\n",
    "for layer in base_model.layers:\n",
    "    layer.trainable = False\n",
    "\n",
    "base_model.summary()\n",
    "\n",
    "input_tensor = preprocessing(preprocessing_input)\n",
    "x = base_model(input_tensor, training=True)  # Apply base model\n",
    "x = tf.keras.layers.GlobalAveragePooling2D()(x)  # Add pooling layer\n",
    "x = layers.Dense(512, activation='relu')(x)  # Add dense layer\n",
    "predictions = layers.Dense(len(class_names), activation='softmax')(x)  # Output layer\n",
    "\n",
    "model = Model(inputs=preprocessing_input, outputs=predictions)\n",
    "\n",
    "# Compile the model\n",
    "model.compile(optimizer='adam', loss=tf.keras.losses.CategoricalCrossentropy(from_logits=False), metrics=['accuracy'])\n",
    "model.summary()\n",
    "# Train the model\n",
    "epochs = 20\n",
    "history = model.fit(train_dataset, validation_data=validation_dataset, epochs=epochs)\n",
    "\n",
    "print(\"--- Execution time: %s seconds ---\" % (time.time() - start_time))\n",
    "\n",
    "model.save('tensorflow_mobilenet_v2_model.keras')"
   ]
  },
  {
   "cell_type": "markdown",
   "id": "f4fed7af-2072-4c17-b78c-e80b7a0c0d5f",
   "metadata": {},
   "source": [
    "# Results for MobileNetV2 model"
   ]
  },
  {
   "cell_type": "code",
   "execution_count": null,
   "id": "19ba556f-81fa-4c42-b0ab-51c1310e91b9",
   "metadata": {},
   "outputs": [],
   "source": [
    "acc = history.history['accuracy']\n",
    "val_acc = history.history['val_accuracy']\n",
    "\n",
    "loss = history.history['loss']\n",
    "val_loss = history.history['val_loss']\n",
    "\n",
    "epochs_range = range(epochs)\n",
    "\n",
    "plt.figure(figsize=(16, 8))\n",
    "plt.subplot(1, 2, 1)\n",
    "plt.plot(epochs_range, acc, label='Training Accuracy')\n",
    "plt.plot(epochs_range, val_acc, label='Validation Accuracy')\n",
    "plt.legend(loc='lower right')\n",
    "plt.title('Training and Validation Accuracy')\n",
    "\n",
    "plt.subplot(1, 2, 2)\n",
    "plt.plot(epochs_range, loss, label='Training Loss')\n",
    "plt.plot(epochs_range, val_loss, label='Validation Loss')\n",
    "plt.legend(loc='upper right')\n",
    "plt.title('Training and Validation Loss')\n",
    "plt.show()"
   ]
  },
  {
   "cell_type": "code",
   "execution_count": null,
   "id": "531c7f0c-06fb-4c12-9448-5e264d5c13df",
   "metadata": {},
   "outputs": [],
   "source": [
    "model = tf.keras.models.load_model('tensorflow_mobilenet_v2_model.keras')\n",
    "image_classification(model, \"data/butterfly_test.jpeg\")\n",
    "image_classification(model, \"data/cat_test.jpeg\")\n",
    "image_classification(model, \"data/chicken_test.jpeg\")\n",
    "image_classification(model, \"data/cow_test.jpg\")\n",
    "image_classification(model, \"data/dog_test.jpeg\")\n",
    "image_classification(model, \"data/elephant_test.jpeg\")\n",
    "image_classification(model, \"data/horse_test.jpg\")\n",
    "image_classification(model, \"data/sheep_test.jpg\")\n",
    "image_classification(model, \"data/spider_test.jpg\")\n",
    "image_classification(model, \"data/squirrel_test.jpeg\")"
   ]
  },
  {
   "cell_type": "markdown",
   "id": "f1548567-25fd-443e-9c3d-5107e2a050c4",
   "metadata": {},
   "source": [
    "# Create EfficientNetB0"
   ]
  },
  {
   "cell_type": "raw",
   "id": "6d9745af-672b-4729-a31e-a1f23547d1c9",
   "metadata": {},
   "source": [
    "from tensorflow.keras.models import Model\n",
    "\n",
    "start_time = time.time()\n",
    "\n",
    "preprocessing_input = layers.Input(shape=(img_height, img_width, 3))\n",
    "x = layers.Rescaling(1./255)(preprocessing_input)\n",
    "x = data_augmentation(x)  # Apply data augmentation\n",
    "preprocessing = Model(inputs=preprocessing_input, outputs=x)\n",
    "\n",
    "base_model = tf.keras.applications.EfficientNetB0(weights='imagenet', include_top=False, input_shape=(224, 224, 3))\n",
    "\n",
    "input_tensor = preprocessing(preprocessing_input)\n",
    "x = base_model(input_tensor, training=False)  # Apply base model\n",
    "x = tf.keras.layers.GlobalAveragePooling2D()(x)  # Add pooling layer\n",
    "x = layers.Dense(512, activation='relu')(x)  # Add dense layer\n",
    "predictions = layers.Dense(len(class_names), activation='softmax')(x)  # Output layer\n",
    "\n",
    "model = Model(inputs=preprocessing_input, outputs=predictions)\n",
    "\n",
    "# Compile the model\n",
    "model.compile(optimizer='adam', loss=tf.keras.losses.CategoricalCrossentropy(from_logits=False), metrics=['accuracy'])\n",
    "model.summary()\n",
    "# Train the model\n",
    "epochs = 30\n",
    "history = model.fit(train_dataset, validation_data=validation_dataset, epochs=epochs)\n",
    "\n",
    "print(\"--- Execution time: %s seconds ---\" % (time.time() - start_time))"
   ]
  },
  {
   "cell_type": "markdown",
   "id": "a0397716-de1d-4d7a-b3cb-8dbe80f575ca",
   "metadata": {},
   "source": [
    "# Results for EfficientNetB0"
   ]
  },
  {
   "cell_type": "raw",
   "id": "b8bf0bea-c568-4d44-9df5-0926fdcf68cf",
   "metadata": {},
   "source": [
    "acc = history.history['accuracy']\n",
    "val_acc = history.history['val_accuracy']\n",
    "\n",
    "loss = history.history['loss']\n",
    "val_loss = history.history['val_loss']\n",
    "\n",
    "epochs_range = range(epochs)\n",
    "\n",
    "plt.figure(figsize=(16, 8))\n",
    "plt.subplot(1, 2, 1)\n",
    "plt.plot(epochs_range, acc, label='Training Accuracy')\n",
    "plt.plot(epochs_range, val_acc, label='Validation Accuracy')\n",
    "plt.legend(loc='lower right')\n",
    "plt.title('Training and Validation Accuracy')\n",
    "\n",
    "plt.subplot(1, 2, 2)\n",
    "plt.plot(epochs_range, loss, label='Training Loss')\n",
    "plt.plot(epochs_range, val_loss, label='Validation Loss')\n",
    "plt.legend(loc='upper right')\n",
    "plt.title('Training and Validation Loss')\n",
    "plt.show()"
   ]
  }
 ],
 "metadata": {
  "kernelspec": {
   "display_name": "Python 3 (ipykernel)",
   "language": "python",
   "name": "python3"
  },
  "language_info": {
   "codemirror_mode": {
    "name": "ipython",
    "version": 3
   },
   "file_extension": ".py",
   "mimetype": "text/x-python",
   "name": "python",
   "nbconvert_exporter": "python",
   "pygments_lexer": "ipython3",
   "version": "3.12.3"
  }
 },
 "nbformat": 4,
 "nbformat_minor": 5
}
